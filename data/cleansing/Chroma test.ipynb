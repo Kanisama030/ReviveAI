{
 "cells": [
  {
   "cell_type": "code",
   "execution_count": 1,
   "id": "e1c38305-c0bd-4192-80ff-5555a720703a",
   "metadata": {},
   "outputs": [],
   "source": [
    "import chromadb\n",
    "chroma_client = chromadb.PersistentClient(path=\"/Users/chenyirui/Project/ReviveAI/data/chroma\")"
   ]
  },
  {
   "cell_type": "code",
   "execution_count": 2,
   "id": "b1529be7-9b95-419a-af9b-39277238b93b",
   "metadata": {},
   "outputs": [],
   "source": [
    "collection = chroma_client.get_collection(name=\"carbon_catalogue\")"
   ]
  },
  {
   "cell_type": "code",
   "execution_count": 10,
   "id": "19cd8674-147c-42e2-8618-47609d9507a0",
   "metadata": {},
   "outputs": [
    {
     "name": "stdout",
     "output_type": "stream",
     "text": [
      "{'ids': [['3652-1-2013', '12117-1-2013']], 'embeddings': None, 'documents': [['產品: Netbook (SKU: High efficient CPU.10.1-inch LED backlight), 公司: Compal Electronics, 行業: Computer, IT & telecom, 重量: 2.0 kg, 碳足跡: 156.95 kg CO2e, 國家: Taiwan, 年份: 2013, 詳情: [same as product_name]', '產品: Dell Laptop, 公司: MITIE Group, 行業: Home durables, textiles, & equipment, 重量: 2.32 kg, 碳足跡: 320.0 kg CO2e, 國家: United Kingdom, 年份: 2013, 詳情: [no detail provided]']], 'uris': None, 'included': ['metadatas', 'documents', 'distances'], 'data': None, 'metadatas': [[{'sector': 'Computer, IT & telecom', 'company': 'Compal Electronics', 'weight_kg': 2.0, 'product_name': 'Netbook (SKU: High efficient CPU.10.1-inch LED backlight)', 'year': 2013, 'country': 'Taiwan', 'carbon_footprint': 156.95}, {'product_name': 'Dell Laptop', 'sector': 'Home durables, textiles, & equipment', 'country': 'United Kingdom', 'company': 'MITIE Group', 'year': 2013, 'weight_kg': 2.32, 'carbon_footprint': 320.0}]], 'distances': [[0.5319645404815674, 0.5345129370689392]]}\n"
     ]
    }
   ],
   "source": [
    "results = collection.query(\n",
    "    query_texts=[\"laptop macbook air m1 2020\"], # Chroma will embed this for you\n",
    "    n_results=2 # how many results to return\n",
    ")\n",
    "\n",
    "print(results)\n"
   ]
  },
  {
   "cell_type": "code",
   "execution_count": 6,
   "id": "3becd608-216f-4c74-9578-1a09cedcc58f",
   "metadata": {},
   "outputs": [
    {
     "name": "stdout",
     "output_type": "stream",
     "text": [
      "<chromadb.utils.embedding_functions.sentence_transformer_embedding_function.SentenceTransformerEmbeddingFunction object at 0x11300d160>\n"
     ]
    }
   ],
   "source": [
    "print(collection._embedding_function)  # 這可能顯示內部物件資訊"
   ]
  }
 ],
 "metadata": {
  "kernelspec": {
   "display_name": "Python (reviveai_env)",
   "language": "python",
   "name": "reviveai_env"
  },
  "language_info": {
   "codemirror_mode": {
    "name": "ipython",
    "version": 3
   },
   "file_extension": ".py",
   "mimetype": "text/x-python",
   "name": "python",
   "nbconvert_exporter": "python",
   "pygments_lexer": "ipython3",
   "version": "3.12.9"
  }
 },
 "nbformat": 4,
 "nbformat_minor": 5
}
